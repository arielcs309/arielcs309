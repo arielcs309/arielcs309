{
 "cells": [
  {
   "cell_type": "code",
   "execution_count": 1,
   "id": "63fbccf6",
   "metadata": {
    "_cell_guid": "b1076dfc-b9ad-4769-8c92-a6c4dae69d19",
    "_uuid": "8f2839f25d086af736a60e9eeb907d3b93b6e0e5",
    "execution": {
     "iopub.execute_input": "2024-05-16T00:18:34.792083Z",
     "iopub.status.busy": "2024-05-16T00:18:34.791618Z",
     "iopub.status.idle": "2024-05-16T00:18:35.644969Z",
     "shell.execute_reply": "2024-05-16T00:18:35.644057Z"
    },
    "papermill": {
     "duration": 0.865228,
     "end_time": "2024-05-16T00:18:35.647579",
     "exception": false,
     "start_time": "2024-05-16T00:18:34.782351",
     "status": "completed"
    },
    "tags": []
   },
   "outputs": [],
   "source": [
    "import numpy as np # linear algebra\n",
    "import pandas as pd # data processing, CSV file I/O (e.g. pd.read_csv)\n"
   ]
  },
  {
   "cell_type": "code",
   "execution_count": 2,
   "id": "2e860a16",
   "metadata": {
    "execution": {
     "iopub.execute_input": "2024-05-16T00:18:35.663752Z",
     "iopub.status.busy": "2024-05-16T00:18:35.663249Z",
     "iopub.status.idle": "2024-05-16T00:18:35.709114Z",
     "shell.execute_reply": "2024-05-16T00:18:35.708221Z"
    },
    "papermill": {
     "duration": 0.055857,
     "end_time": "2024-05-16T00:18:35.711508",
     "exception": false,
     "start_time": "2024-05-16T00:18:35.655651",
     "status": "completed"
    },
    "tags": []
   },
   "outputs": [
    {
     "data": {
      "text/html": [
       "<div>\n",
       "<style scoped>\n",
       "    .dataframe tbody tr th:only-of-type {\n",
       "        vertical-align: middle;\n",
       "    }\n",
       "\n",
       "    .dataframe tbody tr th {\n",
       "        vertical-align: top;\n",
       "    }\n",
       "\n",
       "    .dataframe thead th {\n",
       "        text-align: right;\n",
       "    }\n",
       "</style>\n",
       "<table border=\"1\" class=\"dataframe\">\n",
       "  <thead>\n",
       "    <tr style=\"text-align: right;\">\n",
       "      <th></th>\n",
       "      <th>ID</th>\n",
       "      <th>Age</th>\n",
       "      <th>Gender</th>\n",
       "      <th>Height</th>\n",
       "      <th>Weight</th>\n",
       "      <th>BMI</th>\n",
       "      <th>Label</th>\n",
       "    </tr>\n",
       "  </thead>\n",
       "  <tbody>\n",
       "    <tr>\n",
       "      <th>0</th>\n",
       "      <td>1</td>\n",
       "      <td>25</td>\n",
       "      <td>Male</td>\n",
       "      <td>175</td>\n",
       "      <td>80</td>\n",
       "      <td>25.3</td>\n",
       "      <td>Normal Weight</td>\n",
       "    </tr>\n",
       "    <tr>\n",
       "      <th>1</th>\n",
       "      <td>2</td>\n",
       "      <td>30</td>\n",
       "      <td>Female</td>\n",
       "      <td>160</td>\n",
       "      <td>60</td>\n",
       "      <td>22.5</td>\n",
       "      <td>Normal Weight</td>\n",
       "    </tr>\n",
       "    <tr>\n",
       "      <th>2</th>\n",
       "      <td>3</td>\n",
       "      <td>35</td>\n",
       "      <td>Male</td>\n",
       "      <td>180</td>\n",
       "      <td>90</td>\n",
       "      <td>27.3</td>\n",
       "      <td>Overweight</td>\n",
       "    </tr>\n",
       "    <tr>\n",
       "      <th>3</th>\n",
       "      <td>4</td>\n",
       "      <td>40</td>\n",
       "      <td>Female</td>\n",
       "      <td>150</td>\n",
       "      <td>50</td>\n",
       "      <td>20.0</td>\n",
       "      <td>Underweight</td>\n",
       "    </tr>\n",
       "    <tr>\n",
       "      <th>4</th>\n",
       "      <td>5</td>\n",
       "      <td>45</td>\n",
       "      <td>Male</td>\n",
       "      <td>190</td>\n",
       "      <td>100</td>\n",
       "      <td>31.2</td>\n",
       "      <td>Obese</td>\n",
       "    </tr>\n",
       "    <tr>\n",
       "      <th>...</th>\n",
       "      <td>...</td>\n",
       "      <td>...</td>\n",
       "      <td>...</td>\n",
       "      <td>...</td>\n",
       "      <td>...</td>\n",
       "      <td>...</td>\n",
       "      <td>...</td>\n",
       "    </tr>\n",
       "    <tr>\n",
       "      <th>103</th>\n",
       "      <td>106</td>\n",
       "      <td>11</td>\n",
       "      <td>Male</td>\n",
       "      <td>175</td>\n",
       "      <td>10</td>\n",
       "      <td>3.9</td>\n",
       "      <td>Underweight</td>\n",
       "    </tr>\n",
       "    <tr>\n",
       "      <th>104</th>\n",
       "      <td>107</td>\n",
       "      <td>16</td>\n",
       "      <td>Female</td>\n",
       "      <td>160</td>\n",
       "      <td>10</td>\n",
       "      <td>3.9</td>\n",
       "      <td>Underweight</td>\n",
       "    </tr>\n",
       "    <tr>\n",
       "      <th>105</th>\n",
       "      <td>108</td>\n",
       "      <td>21</td>\n",
       "      <td>Male</td>\n",
       "      <td>180</td>\n",
       "      <td>15</td>\n",
       "      <td>5.6</td>\n",
       "      <td>Underweight</td>\n",
       "    </tr>\n",
       "    <tr>\n",
       "      <th>106</th>\n",
       "      <td>109</td>\n",
       "      <td>26</td>\n",
       "      <td>Female</td>\n",
       "      <td>150</td>\n",
       "      <td>15</td>\n",
       "      <td>5.6</td>\n",
       "      <td>Underweight</td>\n",
       "    </tr>\n",
       "    <tr>\n",
       "      <th>107</th>\n",
       "      <td>110</td>\n",
       "      <td>31</td>\n",
       "      <td>Male</td>\n",
       "      <td>190</td>\n",
       "      <td>20</td>\n",
       "      <td>8.3</td>\n",
       "      <td>Underweight</td>\n",
       "    </tr>\n",
       "  </tbody>\n",
       "</table>\n",
       "<p>108 rows × 7 columns</p>\n",
       "</div>"
      ],
      "text/plain": [
       "      ID  Age  Gender  Height  Weight   BMI          Label\n",
       "0      1   25    Male     175      80  25.3  Normal Weight\n",
       "1      2   30  Female     160      60  22.5  Normal Weight\n",
       "2      3   35    Male     180      90  27.3     Overweight\n",
       "3      4   40  Female     150      50  20.0    Underweight\n",
       "4      5   45    Male     190     100  31.2          Obese\n",
       "..   ...  ...     ...     ...     ...   ...            ...\n",
       "103  106   11    Male     175      10   3.9    Underweight\n",
       "104  107   16  Female     160      10   3.9    Underweight\n",
       "105  108   21    Male     180      15   5.6    Underweight\n",
       "106  109   26  Female     150      15   5.6    Underweight\n",
       "107  110   31    Male     190      20   8.3    Underweight\n",
       "\n",
       "[108 rows x 7 columns]"
      ]
     },
     "execution_count": 2,
     "metadata": {},
     "output_type": "execute_result"
    }
   ],
   "source": [
    "db = pd.read_csv('/kaggle/input/obesity-classification-dataset/Obesity Classification.csv')\n",
    "db"
   ]
  },
  {
   "cell_type": "code",
   "execution_count": 3,
   "id": "8ee5af46",
   "metadata": {
    "execution": {
     "iopub.execute_input": "2024-05-16T00:18:35.726298Z",
     "iopub.status.busy": "2024-05-16T00:18:35.725903Z",
     "iopub.status.idle": "2024-05-16T00:18:37.216374Z",
     "shell.execute_reply": "2024-05-16T00:18:37.215063Z"
    },
    "papermill": {
     "duration": 1.500863,
     "end_time": "2024-05-16T00:18:37.218932",
     "exception": false,
     "start_time": "2024-05-16T00:18:35.718069",
     "status": "completed"
    },
    "tags": []
   },
   "outputs": [
    {
     "data": {
      "image/png": "[encoded data removed]",
      "text/plain": [
       "<Figure size 640x480 with 1 Axes>"
      ]
     },
     "metadata": {},
     "output_type": "display_data"
    }
   ],
   "source": [
    "import seaborn as sns\n",
    "%matplotlib inline\n",
    "\n",
    "ax = sns.countplot(x='Label', data=db)"
   ]
  },
  {
   "cell_type": "code",
   "execution_count": 4,
   "id": "6d98558d",
   "metadata": {
    "execution": {
     "iopub.execute_input": "2024-05-16T00:18:37.235749Z",
     "iopub.status.busy": "2024-05-16T00:18:37.235050Z",
     "iopub.status.idle": "2024-05-16T00:18:37.466936Z",
     "shell.execute_reply": "2024-05-16T00:18:37.465923Z"
    },
    "papermill": {
     "duration": 0.243452,
     "end_time": "2024-05-16T00:18:37.469502",
     "exception": false,
     "start_time": "2024-05-16T00:18:37.226050",
     "status": "completed"
    },
    "tags": []
   },
   "outputs": [],
   "source": [
    "from sklearn.preprocessing import LabelEncoder\n",
    "label_encoder = LabelEncoder()"
   ]
  },
  {
   "cell_type": "code",
   "execution_count": 5,
   "id": "f7ae6c5d",
   "metadata": {
    "execution": {
     "iopub.execute_input": "2024-05-16T00:18:37.485184Z",
     "iopub.status.busy": "2024-05-16T00:18:37.484802Z",
     "iopub.status.idle": "2024-05-16T00:18:37.500433Z",
     "shell.execute_reply": "2024-05-16T00:18:37.499280Z"
    },
    "papermill": {
     "duration": 0.026209,
     "end_time": "2024-05-16T00:18:37.502828",
     "exception": false,
     "start_time": "2024-05-16T00:18:37.476619",
     "status": "completed"
    },
    "tags": []
   },
   "outputs": [
    {
     "data": {
      "text/html": [
       "<div>\n",
       "<style scoped>\n",
       "    .dataframe tbody tr th:only-of-type {\n",
       "        vertical-align: middle;\n",
       "    }\n",
       "\n",
       "    .dataframe tbody tr th {\n",
       "        vertical-align: top;\n",
       "    }\n",
       "\n",
       "    .dataframe thead th {\n",
       "        text-align: right;\n",
       "    }\n",
       "</style>\n",
       "<table border=\"1\" class=\"dataframe\">\n",
       "  <thead>\n",
       "    <tr style=\"text-align: right;\">\n",
       "      <th></th>\n",
       "      <th>Age</th>\n",
       "      <th>Height</th>\n",
       "      <th>Weight</th>\n",
       "      <th>BMI</th>\n",
       "      <th>Label</th>\n",
       "    </tr>\n",
       "  </thead>\n",
       "  <tbody>\n",
       "    <tr>\n",
       "      <th>0</th>\n",
       "      <td>25</td>\n",
       "      <td>175</td>\n",
       "      <td>80</td>\n",
       "      <td>25.3</td>\n",
       "      <td>Normal Weight</td>\n",
       "    </tr>\n",
       "    <tr>\n",
       "      <th>1</th>\n",
       "      <td>30</td>\n",
       "      <td>160</td>\n",
       "      <td>60</td>\n",
       "      <td>22.5</td>\n",
       "      <td>Normal Weight</td>\n",
       "    </tr>\n",
       "    <tr>\n",
       "      <th>2</th>\n",
       "      <td>35</td>\n",
       "      <td>180</td>\n",
       "      <td>90</td>\n",
       "      <td>27.3</td>\n",
       "      <td>Overweight</td>\n",
       "    </tr>\n",
       "    <tr>\n",
       "      <th>3</th>\n",
       "      <td>40</td>\n",
       "      <td>150</td>\n",
       "      <td>50</td>\n",
       "      <td>20.0</td>\n",
       "      <td>Underweight</td>\n",
       "    </tr>\n",
       "    <tr>\n",
       "      <th>4</th>\n",
       "      <td>45</td>\n",
       "      <td>190</td>\n",
       "      <td>100</td>\n",
       "      <td>31.2</td>\n",
       "      <td>Obese</td>\n",
       "    </tr>\n",
       "  </tbody>\n",
       "</table>\n",
       "</div>"
      ],
      "text/plain": [
       "   Age  Height  Weight   BMI          Label\n",
       "0   25     175      80  25.3  Normal Weight\n",
       "1   30     160      60  22.5  Normal Weight\n",
       "2   35     180      90  27.3     Overweight\n",
       "3   40     150      50  20.0    Underweight\n",
       "4   45     190     100  31.2          Obese"
      ]
     },
     "execution_count": 5,
     "metadata": {},
     "output_type": "execute_result"
    }
   ],
   "source": [
    "# Drop the \"ID\" and \"Gender\" columns from the dataset\n",
    "db.drop([\"ID\", \"Gender\"], axis=1, inplace=True)\n",
    "db.head()"
   ]
  },
  {
   "cell_type": "markdown",
   "id": "c06a6df0",
   "metadata": {
    "papermill": {
     "duration": 0.006791,
     "end_time": "2024-05-16T00:18:37.516674",
     "exception": false,
     "start_time": "2024-05-16T00:18:37.509883",
     "status": "completed"
    },
    "tags": []
   },
   "source": [
    "# **Oversampling**\n",
    "***SMOTE***\n",
    "* The Smote helps to make the results have a more balanced number\n",
    "* Its a oversampling technic and it creates more observations where the data is close.\n"
   ]
  },
  {
   "cell_type": "code",
   "execution_count": 6,
   "id": "08ca2898",
   "metadata": {
    "execution": {
     "iopub.execute_input": "2024-05-16T00:18:37.533824Z",
     "iopub.status.busy": "2024-05-16T00:18:37.533451Z",
     "iopub.status.idle": "2024-05-16T00:18:37.539356Z",
     "shell.execute_reply": "2024-05-16T00:18:37.538416Z"
    },
    "papermill": {
     "duration": 0.017233,
     "end_time": "2024-05-16T00:18:37.541413",
     "exception": false,
     "start_time": "2024-05-16T00:18:37.524180",
     "status": "completed"
    },
    "tags": []
   },
   "outputs": [],
   "source": [
    "#smote\n",
    "X = db.drop('Label', axis = 1)\n",
    "y = db['Label']"
   ]
  },
  {
   "cell_type": "code",
   "execution_count": 7,
   "id": "0eb23461",
   "metadata": {
    "execution": {
     "iopub.execute_input": "2024-05-16T00:18:37.557250Z",
     "iopub.status.busy": "2024-05-16T00:18:37.556873Z",
     "iopub.status.idle": "2024-05-16T00:18:38.095878Z",
     "shell.execute_reply": "2024-05-16T00:18:38.095067Z"
    },
    "papermill": {
     "duration": 0.549821,
     "end_time": "2024-05-16T00:18:38.098250",
     "exception": false,
     "start_time": "2024-05-16T00:18:37.548429",
     "status": "completed"
    },
    "tags": []
   },
   "outputs": [],
   "source": [
    "from imblearn.over_sampling import SMOTE\n",
    "\n",
    "smt = SMOTE(random_state=123)  # Instancia um objeto da classe SMOTE\n",
    "X, y = smt.fit_resample(X, y)  # Realiza a reamostragem do conjunto de dados"
   ]
  },
  {
   "cell_type": "code",
   "execution_count": 8,
   "id": "920a9853",
   "metadata": {
    "execution": {
     "iopub.execute_input": "2024-05-16T00:18:38.114420Z",
     "iopub.status.busy": "2024-05-16T00:18:38.113487Z",
     "iopub.status.idle": "2024-05-16T00:18:38.126177Z",
     "shell.execute_reply": "2024-05-16T00:18:38.125086Z"
    },
    "papermill": {
     "duration": 0.023169,
     "end_time": "2024-05-16T00:18:38.128375",
     "exception": false,
     "start_time": "2024-05-16T00:18:38.105206",
     "status": "completed"
    },
    "tags": []
   },
   "outputs": [
    {
     "data": {
      "text/html": [
       "<div>\n",
       "<style scoped>\n",
       "    .dataframe tbody tr th:only-of-type {\n",
       "        vertical-align: middle;\n",
       "    }\n",
       "\n",
       "    .dataframe tbody tr th {\n",
       "        vertical-align: top;\n",
       "    }\n",
       "\n",
       "    .dataframe thead th {\n",
       "        text-align: right;\n",
       "    }\n",
       "</style>\n",
       "<table border=\"1\" class=\"dataframe\">\n",
       "  <thead>\n",
       "    <tr style=\"text-align: right;\">\n",
       "      <th></th>\n",
       "      <th>Age</th>\n",
       "      <th>Height</th>\n",
       "      <th>Weight</th>\n",
       "      <th>BMI</th>\n",
       "      <th>Label</th>\n",
       "    </tr>\n",
       "  </thead>\n",
       "  <tbody>\n",
       "    <tr>\n",
       "      <th>0</th>\n",
       "      <td>25</td>\n",
       "      <td>175</td>\n",
       "      <td>80</td>\n",
       "      <td>25.3</td>\n",
       "      <td>Normal Weight</td>\n",
       "    </tr>\n",
       "    <tr>\n",
       "      <th>1</th>\n",
       "      <td>30</td>\n",
       "      <td>160</td>\n",
       "      <td>60</td>\n",
       "      <td>22.5</td>\n",
       "      <td>Normal Weight</td>\n",
       "    </tr>\n",
       "  </tbody>\n",
       "</table>\n",
       "</div>"
      ],
      "text/plain": [
       "   Age  Height  Weight   BMI          Label\n",
       "0   25     175      80  25.3  Normal Weight\n",
       "1   30     160      60  22.5  Normal Weight"
      ]
     },
     "execution_count": 8,
     "metadata": {},
     "output_type": "execute_result"
    }
   ],
   "source": [
    "db = pd.concat([X, y], axis=1)  # Concatena a variável target (y) com as features (X)\n",
    "\n",
    "# Verifica se o balanceamento e a concatenação estão corretos.\n",
    "db.head(2)"
   ]
  },
  {
   "cell_type": "code",
   "execution_count": 9,
   "id": "1f542112",
   "metadata": {
    "execution": {
     "iopub.execute_input": "2024-05-16T00:18:38.145301Z",
     "iopub.status.busy": "2024-05-16T00:18:38.144905Z",
     "iopub.status.idle": "2024-05-16T00:18:38.344120Z",
     "shell.execute_reply": "2024-05-16T00:18:38.343033Z"
    },
    "papermill": {
     "duration": 0.210306,
     "end_time": "2024-05-16T00:18:38.346376",
     "exception": false,
     "start_time": "2024-05-16T00:18:38.136070",
     "status": "completed"
    },
    "tags": []
   },
   "outputs": [
    {
     "data": {
      "image/png": "[encoded data removed]",
      "text/plain": [
       "<Figure size 640x480 with 1 Axes>"
      ]
     },
     "metadata": {},
     "output_type": "display_data"
    }
   ],
   "source": [
    "#now the variables are balanced\n",
    "ax = sns.countplot(x='Label', data=db)  "
   ]
  },
  {
   "cell_type": "markdown",
   "id": "f3e818e6",
   "metadata": {
    "papermill": {
     "duration": 0.007835,
     "end_time": "2024-05-16T00:18:38.361696",
     "exception": false,
     "start_time": "2024-05-16T00:18:38.353861",
     "status": "completed"
    },
    "tags": []
   },
   "source": [
    "# KNN K-NEAREST NEIGHBORS\n",
    "* We need to scale"
   ]
  },
  {
   "cell_type": "code",
   "execution_count": 10,
   "id": "1c35aa20",
   "metadata": {
    "execution": {
     "iopub.execute_input": "2024-05-16T00:18:38.378578Z",
     "iopub.status.busy": "2024-05-16T00:18:38.378187Z",
     "iopub.status.idle": "2024-05-16T00:18:38.382703Z",
     "shell.execute_reply": "2024-05-16T00:18:38.381597Z"
    },
    "papermill": {
     "duration": 0.015658,
     "end_time": "2024-05-16T00:18:38.384977",
     "exception": false,
     "start_time": "2024-05-16T00:18:38.369319",
     "status": "completed"
    },
    "tags": []
   },
   "outputs": [],
   "source": [
    "from sklearn.preprocessing import StandardScaler"
   ]
  },
  {
   "cell_type": "code",
   "execution_count": 11,
   "id": "083ed168",
   "metadata": {
    "execution": {
     "iopub.execute_input": "2024-05-16T00:18:38.402525Z",
     "iopub.status.busy": "2024-05-16T00:18:38.401719Z",
     "iopub.status.idle": "2024-05-16T00:18:38.418889Z",
     "shell.execute_reply": "2024-05-16T00:18:38.417827Z"
    },
    "papermill": {
     "duration": 0.028843,
     "end_time": "2024-05-16T00:18:38.421455",
     "exception": false,
     "start_time": "2024-05-16T00:18:38.392612",
     "status": "completed"
    },
    "tags": []
   },
   "outputs": [
    {
     "data": {
      "text/plain": [
       "array([[-1.12635529,  0.04602127,  0.23659768,  0.19351639],\n",
       "       [-0.91396332, -0.46492359, -0.44614006, -0.18458251],\n",
       "       [-0.70157135,  0.21633623,  0.57796655,  0.46358703],\n",
       "       [-0.48917938, -0.80555349, -0.78750893, -0.52217081],\n",
       "       [-0.27678741,  0.55696614,  0.91933542,  0.99022477],\n",
       "       [-0.06439544, -1.1461834 , -1.1288778 , -0.96778737],\n",
       "       [ 0.14799653,  0.89759604,  1.26070429,  1.39533073],\n",
       "       [ 0.3603885 , -1.48681331, -1.47024667, -1.42690745],\n",
       "       [ 0.57278047,  1.23822595,  1.60207316,  1.80043669],\n",
       "       [ 0.78517244, -1.82744322, -1.81161554, -1.87252401],\n",
       "       [-1.42370405,  0.04602127, -0.10477119, -0.06305072],\n",
       "       [-1.21131208, -0.46492359, -0.78750893, -0.52217081],\n",
       "       [-0.99892011,  0.21633623,  0.23659768,  0.19351639],\n",
       "       [-0.78652814, -0.80555349, -0.44614006, -0.18458251],\n",
       "       [-0.57413617,  0.55696614,  0.57796655,  0.46358703],\n",
       "       [-0.3617442 , -1.1461834 , -0.78750893, -0.52217081],\n",
       "       [-0.14935223,  0.89759604,  0.91933542,  0.99022477],\n",
       "       [ 0.06303974, -1.48681331, -1.1288778 , -0.96778737],\n",
       "       [ 0.27543171,  1.23822595,  1.26070429,  1.39533073],\n",
       "       [ 0.48782369, -1.82744322, -1.47024667, -1.42690745],\n",
       "       [ 0.70021566,  0.04602127,  0.23659768,  0.19351639],\n",
       "       [ 0.91260763, -0.46492359, -0.44614006, -0.18458251],\n",
       "       [ 1.1249996 ,  0.21633623,  0.57796655,  0.46358703],\n",
       "       [ 1.33739157, -0.80555349, -0.78750893, -0.52217081],\n",
       "       [ 1.54978354,  0.55696614,  0.91933542,  0.99022477],\n",
       "       [ 1.76217551, -1.1461834 , -1.1288778 , -0.96778737],\n",
       "       [ 1.97456748,  0.89759604,  1.26070429,  1.39533073],\n",
       "       [ 2.18695945, -1.48681331, -1.47024667, -1.42690745],\n",
       "       [ 2.39935142,  1.23822595,  1.60207316,  1.80043669],\n",
       "       [-1.38122565,  0.04602127,  0.06591324,  0.04497753],\n",
       "       [-1.16883368, -0.46492359, -0.61682449, -0.36012843],\n",
       "       [-0.95644171,  0.21633623,  0.40728211,  0.30154464],\n",
       "       [-0.53165777,  0.55696614,  0.74865098,  0.42307643],\n",
       "       [-0.3192658 , -1.1461834 ,  0.06591324,  0.15300579],\n",
       "       [-0.10687383,  0.89759604,  1.09001985,  0.67964354],\n",
       "       [ 0.10551814, -1.48681331,  0.40728211,  0.49059409],\n",
       "       [ 0.31791011,  1.23822595,  1.43138872,  0.93621065],\n",
       "       [ 0.53030208, -1.82744322,  0.74865098,  0.7066506 ],\n",
       "       [-1.46618244,  0.04602127, -0.27545562, -0.15757545],\n",
       "       [-1.25379047, -0.46492359, -0.95819336, -0.69771673],\n",
       "       [-1.0413985 ,  0.21633623,  0.06591324,  0.04497753],\n",
       "       [-0.82900653, -0.80555349, -0.61682449, -0.36012843],\n",
       "       [-0.61661456,  0.55696614,  0.40728211,  0.30154464],\n",
       "       [-0.40422259, -1.1461834 , -0.27545562, -0.15757545],\n",
       "       [-0.19183062,  0.89759604,  0.74865098,  0.42307643],\n",
       "       [ 0.02056135, -1.48681331,  0.06591324,  0.15300579],\n",
       "       [ 0.23295332,  1.23822595,  1.09001985,  0.67964354],\n",
       "       [ 0.44534529, -1.82744322,  0.40728211,  0.49059409],\n",
       "       [ 0.65773726,  0.04602127, -0.27545562, -0.15757545],\n",
       "       [ 0.87012923, -0.46492359, -0.95819336, -0.69771673],\n",
       "       [ 1.0825212 ,  0.21633623,  0.06591324,  0.04497753],\n",
       "       [ 1.29491317, -0.80555349, -0.61682449, -0.36012843],\n",
       "       [ 1.50730514,  0.55696614,  0.40728211,  0.30154464],\n",
       "       [ 1.71969711, -1.1461834 , -0.27545562, -0.15757545],\n",
       "       [ 1.93208908,  0.89759604,  0.74865098,  0.42307643],\n",
       "       [ 2.14448105, -1.48681331,  0.06591324,  0.15300579],\n",
       "       [ 2.35687302,  1.23822595,  1.09001985,  0.67964354],\n",
       "       [ 2.56926499, -1.82744322,  0.40728211,  0.49059409],\n",
       "       [-1.50866084,  0.04602127, -0.61682449, -0.36012843],\n",
       "       [-1.29626887, -0.46492359, -1.29956223, -0.96778737],\n",
       "       [-1.0838769 ,  0.21633623, -0.27545562, -0.15757545],\n",
       "       [-0.87148493, -0.80555349, -0.95819336, -0.69771673],\n",
       "       [-0.65909295,  0.55696614,  0.06591324,  0.04497753],\n",
       "       [-0.44670098, -1.1461834 , -0.61682449, -0.36012843],\n",
       "       [-0.23430901,  0.89759604,  0.40728211,  0.30154464],\n",
       "       [-0.02191704, -1.48681331, -0.27545562, -0.15757545],\n",
       "       [ 0.19047493,  1.23822595,  0.74865098,  0.42307643],\n",
       "       [ 0.4028669 , -1.82744322,  0.06591324,  0.15300579],\n",
       "       [-1.55113923,  0.04602127, -0.95819336, -0.69771673],\n",
       "       [-1.33874726, -0.46492359, -1.47024667, -1.42690745],\n",
       "       [-1.12635529,  0.21633623, -0.61682449, -0.36012843],\n",
       "       [-0.91396332, -0.80555349, -1.1288778 , -0.96778737],\n",
       "       [-0.70157135,  0.55696614, -0.27545562, -0.15757545],\n",
       "       [-0.48917938, -1.1461834 , -0.78750893, -0.52217081],\n",
       "       [-0.27678741,  0.89759604,  0.06591324,  0.04497753],\n",
       "       [-0.06439544, -1.48681331, -0.44614006, -0.18458251],\n",
       "       [ 0.14799653,  1.23822595,  0.40728211,  0.30154464],\n",
       "       [ 0.3603885 , -1.82744322, -0.10477119, -0.06305072],\n",
       "       [-1.59361762,  0.04602127, -1.29956223, -0.96778737],\n",
       "       [-1.38122565, -0.46492359, -1.6409311 , -1.87252401],\n",
       "       [-1.16883368,  0.21633623, -0.95819336, -0.69771673],\n",
       "       [-0.95644171, -0.80555349, -1.47024667, -1.42690745],\n",
       "       [-0.74404974,  0.55696614, -0.61682449, -0.36012843],\n",
       "       [-1.63609602,  0.04602127, -1.6409311 , -1.87252401],\n",
       "       [-1.42370405, -0.46492359, -1.81161554, -2.10208405],\n",
       "       [-1.21131208,  0.21633623, -1.47024667, -1.42690745],\n",
       "       [-0.99892011, -0.80555349, -1.6409311 , -1.87252401],\n",
       "       [-0.78652814,  0.55696614, -1.1288778 , -0.96778737],\n",
       "       [-0.57413617, -1.1461834 , -1.29956223, -0.96778737],\n",
       "       [-0.3617442 ,  0.89759604, -0.78750893, -0.52217081],\n",
       "       [-0.14935223, -1.48681331, -1.1288778 , -0.96778737],\n",
       "       [ 0.06303974,  1.23822595, -0.61682449, -0.36012843],\n",
       "       [ 0.27543171, -1.82744322, -1.29956223, -0.96778737],\n",
       "       [-1.67857441,  0.04602127, -1.98229997, -2.46667942],\n",
       "       [-1.46618244, -0.46492359, -1.98229997, -2.46667942],\n",
       "       [-1.25379047,  0.21633623, -1.81161554, -2.10208405],\n",
       "       [-1.0413985 , -0.80555349, -1.81161554, -2.10208405],\n",
       "       [-0.82900653,  0.55696614, -1.6409311 , -1.87252401],\n",
       "       [-0.61661456, -1.1461834 , -1.6409311 , -1.87252401],\n",
       "       [-0.40422259,  0.89759604, -1.47024667, -1.42690745],\n",
       "       [-0.19183062, -1.48681331, -1.47024667, -1.42690745],\n",
       "       [ 0.02056135,  1.23822595, -1.29956223, -0.96778737],\n",
       "       [ 0.23295332, -1.82744322, -1.6409311 , -1.87252401],\n",
       "       [-1.72105281,  0.04602127, -2.15298441, -2.69623946],\n",
       "       [-1.50866084, -0.46492359, -2.15298441, -2.69623946],\n",
       "       [-1.29626887,  0.21633623, -1.98229997, -2.46667942],\n",
       "       [-1.0838769 , -0.80555349, -1.98229997, -2.46667942],\n",
       "       [-0.87148493,  0.55696614, -1.81161554, -2.10208405],\n",
       "       [-0.10687383, -1.45275032, -0.30959251, -0.15918717],\n",
       "       [-0.23430901, -1.38462434, -0.41200317, -0.1738325 ],\n",
       "       [ 0.65773726,  0.04602127,  0.10005013,  0.10152871],\n",
       "       [-0.74404974,  0.48884015,  0.06591324,  0.07208465],\n",
       "       [-1.0838769 ,  0.18227324,  0.20246079,  0.16745498],\n",
       "       [ 0.78517244, -1.35056135, -0.27545562, -0.15757545],\n",
       "       [-0.23430901, -1.31649836, -0.27545562, -0.15757545],\n",
       "       [-0.57413617,  0.65915511, -0.37786629, -0.21202208],\n",
       "       [-1.12635529, -0.53304957, -0.61682449, -0.36012843],\n",
       "       [-0.95644171,  0.28446221,  0.06591324,  0.04497753],\n",
       "       [-1.33874726,  0.08008427, -0.41200317, -0.23636379],\n",
       "       [-0.3192658 , -1.24837237, -0.3437294 , -0.16507144],\n",
       "       [-1.38122565,  0.08008427, -0.27545562, -0.15757545],\n",
       "       [ 1.1249996 , -0.15835667, -0.20718185, -0.10158521],\n",
       "       [ 0.91260763, -0.32867162, -0.3437294 , -0.13218239],\n",
       "       [-1.25379047,  0.14821025, -0.61682449, -0.36012843],\n",
       "       [ 0.61525887, -1.38462434, -0.27545562, -0.15757545],\n",
       "       [ 1.25243478, -0.73742751, -0.58268761, -0.32281617],\n",
       "       [ 0.27543171,  1.23822595,  1.32897806,  1.13265137],\n",
       "       [-0.19183062,  0.62509212,  0.98760919,  1.11085743],\n",
       "       [ 0.82765084,  0.6932181 ,  1.05588297,  1.18957125],\n",
       "       [ 0.74269405,  1.13603698,  1.36311495,  1.05544579],\n",
       "       [ 1.71969711,  1.23822595,  1.60207316,  1.80043669],\n",
       "       [-0.06439544,  0.89759604,  1.05588297,  1.15923901],\n",
       "       [ 0.10551814,  1.10197399,  1.12415674,  1.25545628],\n",
       "       [-0.19183062,  0.76134408,  1.02174608,  0.79573925],\n",
       "       [ 1.8471323 ,  1.23822595,  1.15829363,  0.73981183],\n",
       "       [ 1.54978354,  0.55696614,  0.91933542,  0.98649633],\n",
       "       [ 0.14799653,  0.96572203,  1.26070429,  1.39533073],\n",
       "       [ 0.87012923,  1.13603698,  1.4996625 ,  1.71009986],\n",
       "       [ 1.93208908,  0.86353305,  1.2265674 ,  1.38399508],\n",
       "       [ 0.23295332,  1.17009997,  1.36311495,  0.89159195],\n",
       "       [ 0.27543171,  1.23822595,  1.36311495,  0.89667821],\n",
       "       [ 0.10551814,  0.89759604,  1.2265674 ,  1.36410254],\n",
       "       [ 1.59226193,  0.59102913,  0.9534723 ,  1.03484083],\n",
       "       [ 0.48782369,  1.23822595,  1.53379938,  1.58470747],\n",
       "       [ 1.67721872,  0.65915511,  1.02174608,  1.11442895],\n",
       "       [ 0.23295332,  1.23822595,  1.2265674 ,  0.804909  ],\n",
       "       [ 1.71969711,  0.6932181 ,  1.05588297,  1.17830253],\n",
       "       [ 0.06303974,  1.067911  ,  1.09001985,  1.22049943],\n",
       "       [ 0.3603885 ,  1.10197399,  1.43138872,  1.46134134],\n",
       "       [ 2.18695945,  1.067911  ,  1.43138872,  1.59897394],\n",
       "       [ 1.67721872,  0.65915511,  1.02174608,  1.11853685],\n",
       "       [-0.27678741,  0.55696614,  0.91933542,  0.99022477],\n",
       "       [-0.23430901,  0.62509212,  0.9534723 ,  1.03435254],\n",
       "       [ 0.10551814,  1.067911  ,  1.26070429,  0.80908375],\n",
       "       [ 2.22943784,  1.13603698,  1.12415674,  0.84628123],\n",
       "       [-0.06439544,  0.82947006,  0.98760919,  0.85454405],\n",
       "       [ 0.02056135,  0.79540707,  1.15829363,  1.29467932],\n",
       "       [ 0.27543171,  1.23822595,  1.32897806,  1.1745435 ],\n",
       "       [ 0.70021566,  1.23822595,  1.46552561,  1.11101902],\n",
       "       [-0.19183062,  0.62509212,  0.98760919,  1.10474942],\n",
       "       [ 0.27543171,  1.23822595,  1.32897806,  1.19633971],\n",
       "       [ 1.33739157,  0.38665118,  0.61210344,  0.45193335],\n",
       "       [ 0.27543171, -1.69119125,  0.20246079,  0.2974475 ],\n",
       "       [-0.10687383,  1.03384801,  0.441419  ,  0.3497977 ],\n",
       "       [-0.78652814,  0.35258819,  0.47555589,  0.38128323],\n",
       "       [-0.48917938,  0.62509212,  0.50969277,  0.42150403],\n",
       "       [ 0.31791011, -1.72525425,  0.40728211,  0.49059409],\n",
       "       [ 0.02056135,  1.067911  ,  0.74865098,  0.42307643],\n",
       "       [-0.10687383,  0.99978502,  0.61210344,  0.38111409],\n",
       "       [-0.02191704,  1.10197399,  0.40728211,  0.30154464],\n",
       "       [-0.10687383,  0.96572203,  0.74865098,  0.42307643],\n",
       "       [ 0.53030208, -1.82744322,  0.7145141 ,  0.70000425],\n",
       "       [ 0.31791011, -1.75931724,  0.13418702,  0.23200282],\n",
       "       [-0.48917938,  0.62509212,  0.74865098,  0.42307643],\n",
       "       [ 0.10551814,  1.20416296,  0.40728211,  0.30154464],\n",
       "       [-0.27678741, -1.21430938,  0.06591324,  0.15300579],\n",
       "       [-0.3192658 ,  0.82947006,  0.40728211,  0.3265125 ],\n",
       "       [ 2.39935142, -1.82744322,  0.37314523,  0.4645706 ],\n",
       "       [ 0.14799653, -1.55493929,  0.441419  ,  0.51438932],\n",
       "       [-0.14935223,  0.96572203,  0.40728211,  0.30154464],\n",
       "       [-0.23430901,  0.89759604,  0.61210344,  0.38581518],\n",
       "       [ 0.99756441,  1.067911  ,  0.54382966,  0.36088091],\n",
       "       [-0.06439544,  1.03384801,  0.57796655,  0.3666531 ],\n",
       "       [ 0.48782369, -1.82744322,  0.57796655,  0.61340724],\n",
       "       [ 1.37986996,  0.99978502,  0.74865098,  0.42307643],\n",
       "       [-0.70157135,  0.35258819,  0.47555589,  0.38300192],\n",
       "       [-0.44670098,  0.65915511,  0.61210344,  0.38458281],\n",
       "       [-0.27678741, -1.21430938,  0.10005013,  0.19912514]])"
      ]
     },
     "execution_count": 11,
     "metadata": {},
     "output_type": "execute_result"
    }
   ],
   "source": [
    "norm = StandardScaler()\n",
    "X_norm = norm.fit_transform(X)\n",
    "X_norm"
   ]
  },
  {
   "cell_type": "code",
   "execution_count": 12,
   "id": "51a923a8",
   "metadata": {
    "execution": {
     "iopub.execute_input": "2024-05-16T00:18:38.439333Z",
     "iopub.status.busy": "2024-05-16T00:18:38.438390Z",
     "iopub.status.idle": "2024-05-16T00:18:38.444630Z",
     "shell.execute_reply": "2024-05-16T00:18:38.443737Z"
    },
    "papermill": {
     "duration": 0.017241,
     "end_time": "2024-05-16T00:18:38.446663",
     "exception": false,
     "start_time": "2024-05-16T00:18:38.429422",
     "status": "completed"
    },
    "tags": []
   },
   "outputs": [
    {
     "data": {
      "text/plain": [
       "array([-1.12635529,  0.04602127,  0.23659768,  0.19351639])"
      ]
     },
     "execution_count": 12,
     "metadata": {},
     "output_type": "execute_result"
    }
   ],
   "source": [
    "X_norm[0]"
   ]
  },
  {
   "cell_type": "code",
   "execution_count": 13,
   "id": "0a84580b",
   "metadata": {
    "execution": {
     "iopub.execute_input": "2024-05-16T00:18:38.465049Z",
     "iopub.status.busy": "2024-05-16T00:18:38.464046Z",
     "iopub.status.idle": "2024-05-16T00:18:38.468823Z",
     "shell.execute_reply": "2024-05-16T00:18:38.467913Z"
    },
    "papermill": {
     "duration": 0.015933,
     "end_time": "2024-05-16T00:18:38.470728",
     "exception": false,
     "start_time": "2024-05-16T00:18:38.454795",
     "status": "completed"
    },
    "tags": []
   },
   "outputs": [],
   "source": [
    "from sklearn.model_selection import train_test_split"
   ]
  },
  {
   "cell_type": "code",
   "execution_count": 14,
   "id": "980834ca",
   "metadata": {
    "execution": {
     "iopub.execute_input": "2024-05-16T00:18:38.489118Z",
     "iopub.status.busy": "2024-05-16T00:18:38.488364Z",
     "iopub.status.idle": "2024-05-16T00:18:38.494133Z",
     "shell.execute_reply": "2024-05-16T00:18:38.493280Z"
    },
    "papermill": {
     "duration": 0.017464,
     "end_time": "2024-05-16T00:18:38.496376",
     "exception": false,
     "start_time": "2024-05-16T00:18:38.478912",
     "status": "completed"
    },
    "tags": []
   },
   "outputs": [],
   "source": [
    "X_train, X_test, y_train, y_test = train_test_split(X_norm, y, test_size = 0.3, random_state = 123)"
   ]
  },
  {
   "cell_type": "markdown",
   "id": "8a65d68b",
   "metadata": {
    "papermill": {
     "duration": 0.007683,
     "end_time": "2024-05-16T00:18:38.512114",
     "exception": false,
     "start_time": "2024-05-16T00:18:38.504431",
     "status": "completed"
    },
    "tags": []
   },
   "source": [
    "# Train/test"
   ]
  },
  {
   "cell_type": "code",
   "execution_count": 15,
   "id": "cbd24c09",
   "metadata": {
    "execution": {
     "iopub.execute_input": "2024-05-16T00:18:38.530857Z",
     "iopub.status.busy": "2024-05-16T00:18:38.530120Z",
     "iopub.status.idle": "2024-05-16T00:18:38.534403Z",
     "shell.execute_reply": "2024-05-16T00:18:38.533405Z"
    },
    "papermill": {
     "duration": 0.016421,
     "end_time": "2024-05-16T00:18:38.536598",
     "exception": false,
     "start_time": "2024-05-16T00:18:38.520177",
     "status": "completed"
    },
    "tags": []
   },
   "outputs": [],
   "source": [
    "from sklearn.neighbors import KNeighborsClassifier"
   ]
  },
  {
   "cell_type": "code",
   "execution_count": 16,
   "id": "3051c907",
   "metadata": {
    "execution": {
     "iopub.execute_input": "2024-05-16T00:18:38.554695Z",
     "iopub.status.busy": "2024-05-16T00:18:38.554046Z",
     "iopub.status.idle": "2024-05-16T00:18:38.558161Z",
     "shell.execute_reply": "2024-05-16T00:18:38.557310Z"
    },
    "papermill": {
     "duration": 0.015852,
     "end_time": "2024-05-16T00:18:38.560431",
     "exception": false,
     "start_time": "2024-05-16T00:18:38.544579",
     "status": "completed"
    },
    "tags": []
   },
   "outputs": [],
   "source": [
    "knn = KNeighborsClassifier(metric = 'euclidean')"
   ]
  },
  {
   "cell_type": "code",
   "execution_count": 17,
   "id": "e4efcf85",
   "metadata": {
    "execution": {
     "iopub.execute_input": "2024-05-16T00:18:38.578189Z",
     "iopub.status.busy": "2024-05-16T00:18:38.577777Z",
     "iopub.status.idle": "2024-05-16T00:18:38.589816Z",
     "shell.execute_reply": "2024-05-16T00:18:38.588012Z"
    },
    "papermill": {
     "duration": 0.023619,
     "end_time": "2024-05-16T00:18:38.592123",
     "exception": false,
     "start_time": "2024-05-16T00:18:38.568504",
     "status": "completed"
    },
    "tags": []
   },
   "outputs": [
    {
     "data": {
      "text/html": [
       "<style>#sk-container-id-1 {color: black;background-color: white;}#sk-container-id-1 pre{padding: 0;}#sk-container-id-1 div.sk-toggleable {background-color: white;}#sk-container-id-1 label.sk-toggleable__label {cursor: pointer;display: block;width: 100%;margin-bottom: 0;padding: 0.3em;box-sizing: border-box;text-align: center;}#sk-container-id-1 label.sk-toggleable__label-arrow:before {content: \"▸\";float: left;margin-right: 0.25em;color: #696969;}#sk-container-id-1 label.sk-toggleable__label-arrow:hover:before {color: black;}#sk-container-id-1 div.sk-estimator:hover label.sk-toggleable__label-arrow:before {color: black;}#sk-container-id-1 div.sk-toggleable__content {max-height: 0;max-width: 0;overflow: hidden;text-align: left;background-color: #f0f8ff;}#sk-container-id-1 div.sk-toggleable__content pre {margin: 0.2em;color: black;border-radius: 0.25em;background-color: #f0f8ff;}#sk-container-id-1 input.sk-toggleable__control:checked~div.sk-toggleable__content {max-height: 200px;max-width: 100%;overflow: auto;}#sk-container-id-1 input.sk-toggleable__control:checked~label.sk-toggleable__label-arrow:before {content: \"▾\";}#sk-container-id-1 div.sk-estimator input.sk-toggleable__control:checked~label.sk-toggleable__label {background-color: #d4ebff;}#sk-container-id-1 div.sk-label input.sk-toggleable__control:checked~label.sk-toggleable__label {background-color: #d4ebff;}#sk-container-id-1 input.sk-hidden--visually {border: 0;clip: rect(1px 1px 1px 1px);clip: rect(1px, 1px, 1px, 1px);height: 1px;margin: -1px;overflow: hidden;padding: 0;position: absolute;width: 1px;}#sk-container-id-1 div.sk-estimator {font-family: monospace;background-color: #f0f8ff;border: 1px dotted black;border-radius: 0.25em;box-sizing: border-box;margin-bottom: 0.5em;}#sk-container-id-1 div.sk-estimator:hover {background-color: #d4ebff;}#sk-container-id-1 div.sk-parallel-item::after {content: \"\";width: 100%;border-bottom: 1px solid gray;flex-grow: 1;}#sk-container-id-1 div.sk-label:hover label.sk-toggleable__label {background-color: #d4ebff;}#sk-container-id-1 div.sk-serial::before {content: \"\";position: absolute;border-left: 1px solid gray;box-sizing: border-box;top: 0;bottom: 0;left: 50%;z-index: 0;}#sk-container-id-1 div.sk-serial {display: flex;flex-direction: column;align-items: center;background-color: white;padding-right: 0.2em;padding-left: 0.2em;position: relative;}#sk-container-id-1 div.sk-item {position: relative;z-index: 1;}#sk-container-id-1 div.sk-parallel {display: flex;align-items: stretch;justify-content: center;background-color: white;position: relative;}#sk-container-id-1 div.sk-item::before, #sk-container-id-1 div.sk-parallel-item::before {content: \"\";position: absolute;border-left: 1px solid gray;box-sizing: border-box;top: 0;bottom: 0;left: 50%;z-index: -1;}#sk-container-id-1 div.sk-parallel-item {display: flex;flex-direction: column;z-index: 1;position: relative;background-color: white;}#sk-container-id-1 div.sk-parallel-item:first-child::after {align-self: flex-end;width: 50%;}#sk-container-id-1 div.sk-parallel-item:last-child::after {align-self: flex-start;width: 50%;}#sk-container-id-1 div.sk-parallel-item:only-child::after {width: 0;}#sk-container-id-1 div.sk-dashed-wrapped {border: 1px dashed gray;margin: 0 0.4em 0.5em 0.4em;box-sizing: border-box;padding-bottom: 0.4em;background-color: white;}#sk-container-id-1 div.sk-label label {font-family: monospace;font-weight: bold;display: inline-block;line-height: 1.2em;}#sk-container-id-1 div.sk-label-container {text-align: center;}#sk-container-id-1 div.sk-container {/* jupyter's `normalize.less` sets `[hidden] { display: none; }` but bootstrap.min.css set `[hidden] { display: none !important; }` so we also need the `!important` here to be able to override the default hidden behavior on the sphinx rendered scikit-learn.org. See: https://github.com/scikit-learn/scikit-learn/issues/21755 */display: inline-block !important;position: relative;}#sk-container-id-1 div.sk-text-repr-fallback {display: none;}</style><div id=\"sk-container-id-1\" class=\"sk-top-container\"><div class=\"sk-text-repr-fallback\"><pre>KNeighborsClassifier(metric=&#x27;euclidean&#x27;)</pre><b>In a Jupyter environment, please rerun this cell to show the HTML representation or trust the notebook. <br />On GitHub, the HTML representation is unable to render, please try loading this page with nbviewer.org.</b></div><div class=\"sk-container\" hidden><div class=\"sk-item\"><div class=\"sk-estimator sk-toggleable\"><input class=\"sk-toggleable__control sk-hidden--visually\" id=\"sk-estimator-id-1\" type=\"checkbox\" checked><label for=\"sk-estimator-id-1\" class=\"sk-toggleable__label sk-toggleable__label-arrow\">KNeighborsClassifier</label><div class=\"sk-toggleable__content\"><pre>KNeighborsClassifier(metric=&#x27;euclidean&#x27;)</pre></div></div></div></div></div>"
      ],
      "text/plain": [
       "KNeighborsClassifier(metric='euclidean')"
      ]
     },
     "execution_count": 17,
     "metadata": {},
     "output_type": "execute_result"
    }
   ],
   "source": [
    "knn.fit(X_train, y_train)"
   ]
  },
  {
   "cell_type": "code",
   "execution_count": 18,
   "id": "94dc490a",
   "metadata": {
    "execution": {
     "iopub.execute_input": "2024-05-16T00:18:38.610058Z",
     "iopub.status.busy": "2024-05-16T00:18:38.609665Z",
     "iopub.status.idle": "2024-05-16T00:18:38.622249Z",
     "shell.execute_reply": "2024-05-16T00:18:38.621067Z"
    },
    "papermill": {
     "duration": 0.024083,
     "end_time": "2024-05-16T00:18:38.624502",
     "exception": false,
     "start_time": "2024-05-16T00:18:38.600419",
     "status": "completed"
    },
    "tags": []
   },
   "outputs": [
    {
     "data": {
      "text/plain": [
       "array(['Obese', 'Obese', 'Normal Weight', 'Obese', 'Obese', 'Obese',\n",
       "       'Overweight', 'Normal Weight', 'Overweight', 'Overweight',\n",
       "       'Overweight', 'Normal Weight', 'Obese', 'Underweight',\n",
       "       'Normal Weight', 'Obese', 'Underweight', 'Underweight', 'Obese',\n",
       "       'Normal Weight', 'Normal Weight', 'Overweight', 'Underweight',\n",
       "       'Overweight', 'Overweight', 'Normal Weight', 'Obese',\n",
       "       'Underweight', 'Overweight', 'Obese', 'Obese', 'Obese', 'Obese',\n",
       "       'Normal Weight', 'Underweight', 'Obese', 'Obese', 'Obese',\n",
       "       'Overweight', 'Overweight', 'Underweight', 'Normal Weight',\n",
       "       'Overweight', 'Normal Weight', 'Underweight', 'Normal Weight',\n",
       "       'Underweight', 'Overweight', 'Obese', 'Underweight', 'Overweight',\n",
       "       'Normal Weight', 'Underweight', 'Overweight', 'Obese',\n",
       "       'Overweight', 'Obese'], dtype=object)"
      ]
     },
     "execution_count": 18,
     "metadata": {},
     "output_type": "execute_result"
    }
   ],
   "source": [
    "predict_knn = knn.predict(X_test)\n",
    "predict_knn"
   ]
  },
  {
   "cell_type": "code",
   "execution_count": 19,
   "id": "f26467ba",
   "metadata": {
    "execution": {
     "iopub.execute_input": "2024-05-16T00:18:38.643253Z",
     "iopub.status.busy": "2024-05-16T00:18:38.642518Z",
     "iopub.status.idle": "2024-05-16T00:18:38.650765Z",
     "shell.execute_reply": "2024-05-16T00:18:38.649690Z"
    },
    "papermill": {
     "duration": 0.019977,
     "end_time": "2024-05-16T00:18:38.652899",
     "exception": false,
     "start_time": "2024-05-16T00:18:38.632922",
     "status": "completed"
    },
    "tags": []
   },
   "outputs": [
    {
     "data": {
      "text/plain": [
       "0.04602127476995554"
      ]
     },
     "execution_count": 19,
     "metadata": {},
     "output_type": "execute_result"
    }
   ],
   "source": [
    "np.median(X_train)"
   ]
  },
  {
   "cell_type": "code",
   "execution_count": 20,
   "id": "a1568c1f",
   "metadata": {
    "execution": {
     "iopub.execute_input": "2024-05-16T00:18:38.671836Z",
     "iopub.status.busy": "2024-05-16T00:18:38.671122Z",
     "iopub.status.idle": "2024-05-16T00:18:38.678123Z",
     "shell.execute_reply": "2024-05-16T00:18:38.677343Z"
    },
    "papermill": {
     "duration": 0.018799,
     "end_time": "2024-05-16T00:18:38.680145",
     "exception": false,
     "start_time": "2024-05-16T00:18:38.661346",
     "status": "completed"
    },
    "tags": []
   },
   "outputs": [],
   "source": [
    "from sklearn.naive_bayes import BernoulliNB"
   ]
  },
  {
   "cell_type": "code",
   "execution_count": 21,
   "id": "6c6be9a3",
   "metadata": {
    "execution": {
     "iopub.execute_input": "2024-05-16T00:18:38.698778Z",
     "iopub.status.busy": "2024-05-16T00:18:38.698133Z",
     "iopub.status.idle": "2024-05-16T00:18:38.703172Z",
     "shell.execute_reply": "2024-05-16T00:18:38.702030Z"
    },
    "papermill": {
     "duration": 0.016756,
     "end_time": "2024-05-16T00:18:38.705253",
     "exception": false,
     "start_time": "2024-05-16T00:18:38.688497",
     "status": "completed"
    },
    "tags": []
   },
   "outputs": [],
   "source": [
    "bnb = BernoulliNB(binarize = 0.046)"
   ]
  },
  {
   "cell_type": "code",
   "execution_count": 22,
   "id": "02b47467",
   "metadata": {
    "execution": {
     "iopub.execute_input": "2024-05-16T00:18:38.723959Z",
     "iopub.status.busy": "2024-05-16T00:18:38.723591Z",
     "iopub.status.idle": "2024-05-16T00:18:38.735984Z",
     "shell.execute_reply": "2024-05-16T00:18:38.734825Z"
    },
    "papermill": {
     "duration": 0.0245,
     "end_time": "2024-05-16T00:18:38.738220",
     "exception": false,
     "start_time": "2024-05-16T00:18:38.713720",
     "status": "completed"
    },
    "tags": []
   },
   "outputs": [
    {
     "data": {
      "text/html": [
       "<style>#sk-container-id-2 {color: black;background-color: white;}#sk-container-id-2 pre{padding: 0;}#sk-container-id-2 div.sk-toggleable {background-color: white;}#sk-container-id-2 label.sk-toggleable__label {cursor: pointer;display: block;width: 100%;margin-bottom: 0;padding: 0.3em;box-sizing: border-box;text-align: center;}#sk-container-id-2 label.sk-toggleable__label-arrow:before {content: \"▸\";float: left;margin-right: 0.25em;color: #696969;}#sk-container-id-2 label.sk-toggleable__label-arrow:hover:before {color: black;}#sk-container-id-2 div.sk-estimator:hover label.sk-toggleable__label-arrow:before {color: black;}#sk-container-id-2 div.sk-toggleable__content {max-height: 0;max-width: 0;overflow: hidden;text-align: left;background-color: #f0f8ff;}#sk-container-id-2 div.sk-toggleable__content pre {margin: 0.2em;color: black;border-radius: 0.25em;background-color: #f0f8ff;}#sk-container-id-2 input.sk-toggleable__control:checked~div.sk-toggleable__content {max-height: 200px;max-width: 100%;overflow: auto;}#sk-container-id-2 input.sk-toggleable__control:checked~label.sk-toggleable__label-arrow:before {content: \"▾\";}#sk-container-id-2 div.sk-estimator input.sk-toggleable__control:checked~label.sk-toggleable__label {background-color: #d4ebff;}#sk-container-id-2 div.sk-label input.sk-toggleable__control:checked~label.sk-toggleable__label {background-color: #d4ebff;}#sk-container-id-2 input.sk-hidden--visually {border: 0;clip: rect(1px 1px 1px 1px);clip: rect(1px, 1px, 1px, 1px);height: 1px;margin: -1px;overflow: hidden;padding: 0;position: absolute;width: 1px;}#sk-container-id-2 div.sk-estimator {font-family: monospace;background-color: #f0f8ff;border: 1px dotted black;border-radius: 0.25em;box-sizing: border-box;margin-bottom: 0.5em;}#sk-container-id-2 div.sk-estimator:hover {background-color: #d4ebff;}#sk-container-id-2 div.sk-parallel-item::after {content: \"\";width: 100%;border-bottom: 1px solid gray;flex-grow: 1;}#sk-container-id-2 div.sk-label:hover label.sk-toggleable__label {background-color: #d4ebff;}#sk-container-id-2 div.sk-serial::before {content: \"\";position: absolute;border-left: 1px solid gray;box-sizing: border-box;top: 0;bottom: 0;left: 50%;z-index: 0;}#sk-container-id-2 div.sk-serial {display: flex;flex-direction: column;align-items: center;background-color: white;padding-right: 0.2em;padding-left: 0.2em;position: relative;}#sk-container-id-2 div.sk-item {position: relative;z-index: 1;}#sk-container-id-2 div.sk-parallel {display: flex;align-items: stretch;justify-content: center;background-color: white;position: relative;}#sk-container-id-2 div.sk-item::before, #sk-container-id-2 div.sk-parallel-item::before {content: \"\";position: absolute;border-left: 1px solid gray;box-sizing: border-box;top: 0;bottom: 0;left: 50%;z-index: -1;}#sk-container-id-2 div.sk-parallel-item {display: flex;flex-direction: column;z-index: 1;position: relative;background-color: white;}#sk-container-id-2 div.sk-parallel-item:first-child::after {align-self: flex-end;width: 50%;}#sk-container-id-2 div.sk-parallel-item:last-child::after {align-self: flex-start;width: 50%;}#sk-container-id-2 div.sk-parallel-item:only-child::after {width: 0;}#sk-container-id-2 div.sk-dashed-wrapped {border: 1px dashed gray;margin: 0 0.4em 0.5em 0.4em;box-sizing: border-box;padding-bottom: 0.4em;background-color: white;}#sk-container-id-2 div.sk-label label {font-family: monospace;font-weight: bold;display: inline-block;line-height: 1.2em;}#sk-container-id-2 div.sk-label-container {text-align: center;}#sk-container-id-2 div.sk-container {/* jupyter's `normalize.less` sets `[hidden] { display: none; }` but bootstrap.min.css set `[hidden] { display: none !important; }` so we also need the `!important` here to be able to override the default hidden behavior on the sphinx rendered scikit-learn.org. See: https://github.com/scikit-learn/scikit-learn/issues/21755 */display: inline-block !important;position: relative;}#sk-container-id-2 div.sk-text-repr-fallback {display: none;}</style><div id=\"sk-container-id-2\" class=\"sk-top-container\"><div class=\"sk-text-repr-fallback\"><pre>BernoulliNB(binarize=0.046)</pre><b>In a Jupyter environment, please rerun this cell to show the HTML representation or trust the notebook. <br />On GitHub, the HTML representation is unable to render, please try loading this page with nbviewer.org.</b></div><div class=\"sk-container\" hidden><div class=\"sk-item\"><div class=\"sk-estimator sk-toggleable\"><input class=\"sk-toggleable__control sk-hidden--visually\" id=\"sk-estimator-id-2\" type=\"checkbox\" checked><label for=\"sk-estimator-id-2\" class=\"sk-toggleable__label sk-toggleable__label-arrow\">BernoulliNB</label><div class=\"sk-toggleable__content\"><pre>BernoulliNB(binarize=0.046)</pre></div></div></div></div></div>"
      ],
      "text/plain": [
       "BernoulliNB(binarize=0.046)"
      ]
     },
     "execution_count": 22,
     "metadata": {},
     "output_type": "execute_result"
    }
   ],
   "source": [
    "bnb.fit(X_train, y_train)"
   ]
  },
  {
   "cell_type": "code",
   "execution_count": 23,
   "id": "9fe7cead",
   "metadata": {
    "execution": {
     "iopub.execute_input": "2024-05-16T00:18:38.757678Z",
     "iopub.status.busy": "2024-05-16T00:18:38.756573Z",
     "iopub.status.idle": "2024-05-16T00:18:38.762643Z",
     "shell.execute_reply": "2024-05-16T00:18:38.761438Z"
    },
    "papermill": {
     "duration": 0.017972,
     "end_time": "2024-05-16T00:18:38.764788",
     "exception": false,
     "start_time": "2024-05-16T00:18:38.746816",
     "status": "completed"
    },
    "tags": []
   },
   "outputs": [],
   "source": [
    "predict_BNb = bnb.predict(X_test)"
   ]
  },
  {
   "cell_type": "code",
   "execution_count": 24,
   "id": "a4b67606",
   "metadata": {
    "execution": {
     "iopub.execute_input": "2024-05-16T00:18:38.784119Z",
     "iopub.status.busy": "2024-05-16T00:18:38.783411Z",
     "iopub.status.idle": "2024-05-16T00:18:38.788849Z",
     "shell.execute_reply": "2024-05-16T00:18:38.788079Z"
    },
    "papermill": {
     "duration": 0.017584,
     "end_time": "2024-05-16T00:18:38.791011",
     "exception": false,
     "start_time": "2024-05-16T00:18:38.773427",
     "status": "completed"
    },
    "tags": []
   },
   "outputs": [
    {
     "data": {
      "text/plain": [
       "array(['Obese', 'Obese', 'Normal Weight', 'Overweight', 'Obese', 'Obese',\n",
       "       'Overweight', 'Underweight', 'Overweight', 'Overweight',\n",
       "       'Overweight', 'Underweight', 'Overweight', 'Underweight',\n",
       "       'Overweight', 'Obese', 'Underweight', 'Normal Weight', 'Obese',\n",
       "       'Underweight', 'Underweight', 'Obese', 'Underweight', 'Overweight',\n",
       "       'Overweight', 'Underweight', 'Overweight', 'Normal Weight',\n",
       "       'Overweight', 'Obese', 'Obese', 'Obese', 'Obese', 'Underweight',\n",
       "       'Normal Weight', 'Overweight', 'Obese', 'Obese', 'Overweight',\n",
       "       'Overweight', 'Normal Weight', 'Normal Weight', 'Obese',\n",
       "       'Normal Weight', 'Underweight', 'Normal Weight', 'Underweight',\n",
       "       'Overweight', 'Obese', 'Underweight', 'Underweight',\n",
       "       'Normal Weight', 'Underweight', 'Overweight', 'Obese',\n",
       "       'Overweight', 'Obese'], dtype='<U13')"
      ]
     },
     "execution_count": 24,
     "metadata": {},
     "output_type": "execute_result"
    }
   ],
   "source": [
    "predict_BNb"
   ]
  }
 ],
 "metadata": {
  "kaggle": {
   "accelerator": "none",
   "dataSources": [
    {
     "datasetId": 3291030,
     "sourceId": 5723036,
     "sourceType": "datasetVersion"
    }
   ],
   "dockerImageVersionId": 30698,
   "isGpuEnabled": false,
   "isInternetEnabled": true,
   "language": "python",
   "sourceType": "notebook"
  },
  "kernelspec": {
   "display_name": "Python 3",
   "language": "python",
   "name": "python3"
  },
  "language_info": {
   "codemirror_mode": {
    "name": "ipython",
    "version": 3
   },
   "file_extension": ".py",
   "mimetype": "text/x-python",
   "name": "python",
   "nbconvert_exporter": "python",
   "pygments_lexer": "ipython3",
   "version": "3.10.13"
  },
  "papermill": {
   "default_parameters": {},
   "duration": 7.287233,
   "end_time": "2024-05-16T00:18:39.420873",
   "environment_variables": {},
   "exception": null,
   "input_path": "__notebook__.ipynb",
   "output_path": "__notebook__.ipynb",
   "parameters": {},
   "start_time": "2024-05-16T00:18:32.133640",
   "version": "2.5.0"
  }
 },
 "nbformat": 4,
 "nbformat_minor": 5
}
